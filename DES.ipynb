{
 "cells": [
  {
   "cell_type": "code",
   "execution_count": 3,
   "metadata": {},
   "outputs": [
    {
     "data": {
      "text/plain": [
       "\u001b[36mpath\u001b[39m: \u001b[32mString\u001b[39m = \u001b[32m\"/chisel-bootcamp/source/load-ivy.sc\"\u001b[39m"
      ]
     },
     "execution_count": 3,
     "metadata": {},
     "output_type": "execute_result"
    }
   ],
   "source": [
    "val path = System.getProperty(\"user.dir\") + \"/source/load-ivy.sc\"\n",
    "interp.load.module(ammonite.ops.Path(java.nio.file.FileSystems.getDefault().getPath(path)))"
   ]
  },
  {
   "cell_type": "code",
   "execution_count": 4,
   "metadata": {},
   "outputs": [
    {
     "data": {
      "text/plain": [
       "\u001b[32mimport \u001b[39m\u001b[36mchisel3._\n",
       "\u001b[39m\n",
       "\u001b[32mimport \u001b[39m\u001b[36mchisel3.util._\n",
       "\u001b[39m\n",
       "\u001b[32mimport \u001b[39m\u001b[36mchisel3.tester._\n",
       "\u001b[39m\n",
       "\u001b[32mimport \u001b[39m\u001b[36mchisel3.tester.RawTester.test\n",
       "\u001b[39m\n",
       "\u001b[32mimport \u001b[39m\u001b[36mdotvisualizer._\u001b[39m"
      ]
     },
     "execution_count": 4,
     "metadata": {},
     "output_type": "execute_result"
    }
   ],
   "source": [
    "import chisel3._\n",
    "import chisel3.util._\n",
    "import chisel3.tester._\n",
    "import chisel3.tester.RawTester.test\n",
    "import dotvisualizer._"
   ]
  },
  {
   "cell_type": "code",
   "execution_count": 5,
   "metadata": {},
   "outputs": [
    {
     "data": {
      "text/plain": [
       "defined \u001b[32mclass\u001b[39m \u001b[36mDES\u001b[39m"
      ]
     },
     "execution_count": 5,
     "metadata": {},
     "output_type": "execute_result"
    }
   ],
   "source": [
    "class DES extends Module {\n",
    "  val io = IO(new Bundle {\n",
    "    val plaintext  = Input(UInt(64.W))\n",
    "    val key        = Input(UInt(64.W))\n",
    "    val start      = Input(Bool())\n",
    "    val done       = Output(Bool())\n",
    "    val ciphertext = Output(UInt(64.W))\n",
    "  })\n",
    "\n",
    "  private def permuteN(inBits: UInt, table: Seq[Int], inWidth: Int): UInt = {\n",
    "    Cat(table.map(i => inBits(inWidth - i)).toSeq)\n",
    "  }\n",
    "\n",
    "  private val IP = Seq(58,50,42,34,26,18,10,2, 60,52,44,36,28,20,12,4, 62,54,46,38,30,22,14,6, 64,56,48,40,32,24,16,8, 57,49,41,33,25,17,9,1, 59,51,43,35,27,19,11,3, 61,53,45,37,29,21,13,5, 63,55,47,39,31,23,15,7)\n",
    "  private val FP = Seq(40,8,48,16,56,24,64,32, 39,7,47,15,55,23,63,31, 38,6,46,14,54,22,62,30, 37,5,45,13,53,21,61,29, 36,4,44,12,52,20,60,28, 35,3,43,11,51,19,59,27, 34,2,42,10,50,18,58,26, 33,1,41,9,49,17,57,25)\n",
    "  private val E  = Seq(32,1,2,3,4,5, 4,5,6,7,8,9, 8,9,10,11,12,13, 12,13,14,15,16,17, 16,17,18,19,20,21, 20,21,22,23,24,25, 24,25,26,27,28,29, 28,29,30,31,32,1)\n",
    "  private val P  = Seq(16,7,20,21,29,12,28,17, 1,15,23,26,5,18,31,10, 2,8,24,14,32,27,3,9, 19,13,30,6,22,11,4,25)\n",
    "  private val PC1= Seq(57,49,41,33,25,17,9, 1,58,50,42,34,26,18, 10,2,59,51,43,35,27, 19,11,3,60,52,44,36, 63,55,47,39,31,23,15, 7,62,54,46,38,30,22, 14,6,61,53,45,37,29, 21,13,5,28,20,12,4)\n",
    "  private val PC2= Seq(14,17,11,24,1,5,3,28, 15,6,21,10,23,19,12,4, 26,8,16,7,27,20,13,2, 41,52,31,37,47,55,30,40, 51,45,33,48,44,49,39,56, 34,53,46,42,50,36,29,32)\n",
    "  private val SH  = Seq(1,1,2,2,2,2,2,2,1,2,2,2,2,2,2,1)\n",
    "\n",
    "  private val sboxRaw: Seq[Seq[Seq[Int]]] = Seq(\n",
    "    Seq(Seq(14,4,13,1,2,15,11,8,3,10,6,12,5,9,0,7), Seq(0,15,7,4,14,2,13,1,10,6,12,11,9,5,3,8), Seq(4,1,14,8,13,6,2,11,15,12,9,7,3,10,5,0), Seq(15,12,8,2,4,9,1,7,5,11,3,14,10,0,6,13)),\n",
    "    Seq(Seq(15,1,8,14,6,11,3,4,9,7,2,13,12,0,5,10), Seq(3,13,4,7,15,2,8,14,12,0,1,10,6,9,11,5), Seq(0,14,7,11,10,4,13,1,5,8,12,6,9,3,2,15), Seq(13,8,10,1,3,15,4,2,11,6,7,12,0,5,14,9)),\n",
    "    Seq(Seq(10,0,9,14,6,3,15,5,1,13,12,7,11,4,2,8), Seq(13,7,0,9,3,4,6,10,2,8,5,14,12,11,15,1), Seq(13,6,4,9,8,15,3,0,11,1,2,12,5,10,14,7), Seq(1,10,13,0,6,9,8,7,4,15,14,3,11,5,2,12)),\n",
    "    Seq(Seq(7,13,14,3,0,6,9,10,1,2,8,5,11,12,4,15), Seq(13,8,11,5,6,15,0,3,4,7,2,12,1,10,14,9), Seq(10,6,9,0,12,11,7,13,15,1,3,14,5,2,8,4), Seq(3,15,0,6,10,1,13,8,9,4,5,11,12,7,2,14)),\n",
    "    Seq(Seq(2,12,4,1,7,10,11,6,8,5,3,15,13,0,14,9), Seq(14,11,2,12,4,7,13,1,5,0,15,10,3,9,8,6), Seq(4,2,1,11,10,13,7,8,15,9,12,5,6,3,0,14), Seq(11,8,12,7,1,14,2,13,6,15,0,9,10,4,5,3)),\n",
    "    Seq(Seq(12,1,10,15,9,2,6,8,0,13,3,4,14,7,5,11), Seq(10,15,4,2,7,12,9,5,6,1,13,14,0,11,3,8), Seq(9,14,15,5,2,8,12,3,7,0,4,10,1,13,11,6), Seq(4,3,2,12,9,5,15,10,11,14,1,7,6,0,8,13)),\n",
    "    Seq(Seq(4,11,2,14,15,0,8,13,3,12,9,7,5,10,6,1), Seq(13,0,11,7,4,9,1,10,14,3,5,12,2,15,8,6), Seq(1,4,11,13,12,3,7,14,10,15,6,8,0,5,9,2), Seq(6,11,13,8,1,4,10,7,9,5,0,15,14,2,3,12)),\n",
    "    Seq(Seq(13,2,8,4,6,15,11,1,10,9,3,14,5,0,12,7), Seq(1,15,13,8,10,3,7,4,12,5,6,11,0,14,9,2), Seq(7,11,4,1,9,12,14,2,0,6,10,13,15,3,5,8), Seq(2,1,14,7,4,10,8,13,15,12,9,0,3,5,6,11))\n",
    "  )\n",
    "  private val sboxes = VecInit(sboxRaw.map { rows =>\n",
    "    VecInit(rows.map(row => VecInit(row.map(_.U(4.W)))))\n",
    "  })\n",
    "\n",
    "private def sboxLayer(x: UInt): UInt = {\n",
    "  require(x.getWidth == 48)\n",
    "  val outs = (0 until 8).map { i =>\n",
    "    val hi = 47 - i*6\n",
    "    val lo = hi - 5\n",
    "    val chunk = x(hi, lo)   \n",
    "    val row = Cat(chunk(5), chunk(0))\n",
    "    val col = chunk(4,1)\n",
    "    sboxes(i)(row)(col) \n",
    "  }\n",
    "  outs.reduce(Cat(_, _))   \n",
    "}\n",
    "\n",
    "  private def subkeys56(k64: UInt): Vec[UInt] = {\n",
    "    val k56 = permuteN(k64, PC1, 64) // drop parity\n",
    "    val c0 = k56(55,28)\n",
    "    val d0 = k56(27,0)\n",
    "\n",
    "    def rol28(x: UInt, n: Int): UInt = ((x << n)(27,0)) | (x >> (28 - n))\n",
    "\n",
    "    val c = Wire(Vec(17, UInt(28.W)))\n",
    "    val d = Wire(Vec(17, UInt(28.W)))\n",
    "    c(0) := c0; d(0) := d0\n",
    "    for (i <- 0 until 16) {\n",
    "      c(i+1) := rol28(c(i), SH(i))\n",
    "      d(i+1) := rol28(d(i), SH(i))\n",
    "    }\n",
    "    val ks = Wire(Vec(16, UInt(48.W)))\n",
    "    for (i <- 0 until 16) {\n",
    "      ks(i) := permuteN(Cat(c(i+1), d(i+1)), PC2, 56)\n",
    "    }\n",
    "    ks\n",
    "  }\n",
    "\n",
    "  private def fFunc(r: UInt, k: UInt): UInt = {\n",
    "    val e = permuteN(r, E, 32)          // 32 -> 48\n",
    "    val x = e ^ k\n",
    "    val s = sboxLayer(x)                // 48 -> 32\n",
    "    permuteN(s, P, 32)\n",
    "  }\n",
    "\n",
    "  //FSM\n",
    "  val idle :: busy :: done :: Nil = Enum(3)\n",
    "  val st = RegInit(idle)\n",
    "  val round = RegInit(0.U(5.W))\n",
    "  val L = Reg(UInt(32.W))\n",
    "  val R = Reg(UInt(32.W))\n",
    "  val K = subkeys56(io.key)\n",
    "\n",
    "  io.done := false.B\n",
    "  io.ciphertext := 0.U\n",
    "\n",
    "  switch(st) {\n",
    "    is(idle) {\n",
    "      when(io.start) {\n",
    "        val ip = permuteN(io.plaintext, IP, 64)\n",
    "        L := ip(63,32); R := ip(31,0)\n",
    "        round := 0.U\n",
    "        st := busy\n",
    "      }\n",
    "    }\n",
    "    is(busy) {\n",
    "      val f = fFunc(R, K(round))\n",
    "      val newL = R\n",
    "      val newR = L ^ f\n",
    "      L := newL; R := newR\n",
    "      when(round === 15.U) {\n",
    "        val preOut = Cat(newR, newL)\n",
    "        io.ciphertext := permuteN(preOut, FP, 64)\n",
    "        io.done := true.B\n",
    "        st := done\n",
    "      }.otherwise {\n",
    "        round := round + 1.U\n",
    "      }\n",
    "    }\n",
    "    is(done) {\n",
    "      when(!io.start) { st := idle }\n",
    "    }\n",
    "  }\n",
    "}"
   ]
  },
  {
   "cell_type": "code",
   "execution_count": 6,
   "metadata": {},
   "outputs": [
    {
     "name": "stdout",
     "output_type": "stream",
     "text": [
      "Elaborating design...\n",
      "Done elaborating.\n",
      "Ciphertext: 0xc0b7a8d05f3a829c\n",
      "test DES Success: 0 tests passed in 18 cycles in 0.172616 seconds 104.28 Hz\n"
     ]
    }
   ],
   "source": [
    "{\n",
    "  test(new DES) { dut =>\n",
    "    val pt  = BigInt(\"123456ABCD132536\", 16)\n",
    "    val key = BigInt(\"AABB09182736CCDD\", 16)\n",
    "    val exp = BigInt(\"C0B7A8D05F3A829C\", 16)\n",
    "\n",
    "    dut.io.plaintext.poke(pt.U)\n",
    "    dut.io.key.poke(key.U)\n",
    "    dut.io.start.poke(true.B)\n",
    "    dut.clock.step(1)\n",
    "    dut.io.start.poke(false.B)\n",
    "    while (!dut.io.done.peek().litToBoolean) { dut.clock.step(1) }\n",
    "\n",
    "    val out = dut.io.ciphertext.peek().litValue\n",
    "    println(f\"Ciphertext: 0x$out%016x\")\n",
    "    assert(out == exp)\n",
    "  }\n",
    "}"
   ]
  }
 ],
 "metadata": {
  "anaconda-cloud": {},
  "kernelspec": {
   "display_name": "Scala",
   "language": "scala",
   "name": "scala"
  },
  "language_info": {
   "codemirror_mode": "text/x-scala",
   "file_extension": ".scala",
   "mimetype": "text/x-scala",
   "name": "scala",
   "nbconvert_exporter": "script",
   "version": "2.12.10"
  }
 },
 "nbformat": 4,
 "nbformat_minor": 4
}
