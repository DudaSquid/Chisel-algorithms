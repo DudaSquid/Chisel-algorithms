{
 "cells": [
  {
   "cell_type": "markdown",
   "metadata": {},
   "source": [
    "<a name=\"top\"></a><img src=\"images/chisel_1024.png\" alt=\"Chisel logo\" style=\"width:480px;\" />"
   ]
  },
  {
   "cell_type": "code",
   "execution_count": 3,
   "metadata": {},
   "outputs": [
    {
     "data": {
      "text/plain": [
       "\u001b[36mpath\u001b[39m: \u001b[32mString\u001b[39m = \u001b[32m\"/chisel-bootcamp/source/load-ivy.sc\"\u001b[39m"
      ]
     },
     "execution_count": 3,
     "metadata": {},
     "output_type": "execute_result"
    }
   ],
   "source": [
    "val path = System.getProperty(\"user.dir\") + \"/source/load-ivy.sc\"\n",
    "interp.load.module(ammonite.ops.Path(java.nio.file.FileSystems.getDefault().getPath(path)))"
   ]
  },
  {
   "cell_type": "code",
   "execution_count": 4,
   "metadata": {},
   "outputs": [
    {
     "data": {
      "text/plain": [
       "\u001b[32mimport \u001b[39m\u001b[36mchisel3._\n",
       "\u001b[39m\n",
       "\u001b[32mimport \u001b[39m\u001b[36mchisel3.util._\n",
       "\u001b[39m\n",
       "\u001b[32mimport \u001b[39m\u001b[36mchisel3.tester._\n",
       "\u001b[39m\n",
       "\u001b[32mimport \u001b[39m\u001b[36mchisel3.tester.RawTester.test\n",
       "\u001b[39m\n",
       "\u001b[32mimport \u001b[39m\u001b[36mdotvisualizer._\u001b[39m"
      ]
     },
     "execution_count": 4,
     "metadata": {},
     "output_type": "execute_result"
    }
   ],
   "source": [
    "import chisel3._\n",
    "import chisel3.util._\n",
    "import chisel3.tester._\n",
    "import chisel3.tester.RawTester.test\n",
    "import dotvisualizer._"
   ]
  },
  {
   "cell_type": "code",
   "execution_count": 6,
   "metadata": {},
   "outputs": [
    {
     "data": {
      "text/plain": [
       "defined \u001b[32mclass\u001b[39m \u001b[36mTEAIO\u001b[39m"
      ]
     },
     "execution_count": 6,
     "metadata": {},
     "output_type": "execute_result"
    }
   ],
   "source": [
    "class TEAIO extends Bundle {\n",
    "  val v0  = Input(UInt(32.W))\n",
    "  val v1  = Input(UInt(32.W))\n",
    "  val k0  = Input(UInt(32.W))\n",
    "  val k1  = Input(UInt(32.W))\n",
    "  val k2  = Input(UInt(32.W))\n",
    "  val k3  = Input(UInt(32.W))\n",
    "  val start = Input(Bool())   // control: begin encryption\n",
    "  val out0  = Output(UInt(32.W))\n",
    "  val out1  = Output(UInt(32.W))\n",
    "  val done  = Output(Bool())  // control: finished\n",
    "}"
   ]
  },
  {
   "cell_type": "code",
   "execution_count": 7,
   "metadata": {},
   "outputs": [
    {
     "data": {
      "text/plain": [
       "defined \u001b[32mclass\u001b[39m \u001b[36mTEAEncrypt\u001b[39m"
      ]
     },
     "execution_count": 7,
     "metadata": {},
     "output_type": "execute_result"
    }
   ],
   "source": [
    "class TEAEncrypt extends Module {\n",
    "  val io = IO(new TEAIO)\n",
    "\n",
    "  val Delta = \"h9E3779B9\".U(32.W)\n",
    "  val Rounds = 32.U\n",
    "\n",
    "  val v0 = Reg(UInt(32.W))\n",
    "  val v1 = Reg(UInt(32.W))\n",
    "  val sum = RegInit(0.U(32.W))\n",
    "  val round = RegInit(0.U(6.W))\n",
    "  val busy = RegInit(false.B)\n",
    "\n",
    "  io.out0 := v0\n",
    "  io.out1 := v1\n",
    "  io.done := !busy && (round === Rounds)\n",
    "\n",
    "  when (io.start && !busy) {\n",
    "    v0 := io.v0\n",
    "    v1 := io.v1\n",
    "    sum := 0.U\n",
    "    round := 0.U\n",
    "    busy := true.B\n",
    "  } .elsewhen (busy) {\n",
    "    val newV0 = v0 + (((v1 << 4) + io.k0) ^ (v1 + sum) ^ ((v1 >> 5) + io.k1))\n",
    "    val newSum = sum + Delta\n",
    "    val newV1 = v1 + (((newV0 << 4) + io.k2) ^ (newV0 + newSum) ^ ((newV0 >> 5) + io.k3))\n",
    "\n",
    "    v0 := newV0\n",
    "    v1 := newV1\n",
    "    sum := newSum\n",
    "    round := round + 1.U\n",
    "\n",
    "    when (round === (Rounds - 1.U)) {\n",
    "      busy := false.B\n",
    "    }\n",
    "  }\n",
    "}"
   ]
  },
  {
   "cell_type": "code",
   "execution_count": 8,
   "metadata": {},
   "outputs": [
    {
     "name": "stdout",
     "output_type": "stream",
     "text": [
      "Elaborating design...\n",
      "Done elaborating.\n",
      "Cipher = 839d8fbb ecf9c9db\n",
      "test TEAEncrypt Success: 0 tests passed in 35 cycles in 0.090992 seconds 384.65 Hz\n",
      "SUCCESS!!\n"
     ]
    }
   ],
   "source": [
    "test(new TEAEncrypt()) { c =>\n",
    "  val key = Array(0x00010203, 0x04050607, 0x08090a0b, 0x0c0d0e0f)\n",
    "  val v0_in = 0x41424344  // \"ABCD\"\n",
    "  val v1_in = 0x45464748  // \"EFGH\"\n",
    "\n",
    "  c.io.v0.poke(v0_in.U)\n",
    "  c.io.v1.poke(v1_in.U)\n",
    "  c.io.k0.poke(key(0).U)\n",
    "  c.io.k1.poke(key(1).U)\n",
    "  c.io.k2.poke(key(2).U)\n",
    "  c.io.k3.poke(key(3).U)\n",
    "\n",
    "  c.io.start.poke(true.B)\n",
    "  c.clock.step(1)\n",
    "  c.io.start.poke(false.B)\n",
    "\n",
    "  c.clock.step(32)\n",
    "  c.io.done.expect(true.B)\n",
    "\n",
    "  println(f\"Cipher = ${c.io.out0.peek().litValue}%08x ${c.io.out1.peek().litValue}%08x\")\n",
    "}\n",
    "println(\"SUCCESS!!\")"
   ]
  }
 ],
 "metadata": {
  "anaconda-cloud": {},
  "kernelspec": {
   "display_name": "Scala",
   "language": "scala",
   "name": "scala"
  },
  "language_info": {
   "codemirror_mode": "text/x-scala",
   "file_extension": ".scala",
   "mimetype": "text/x-scala",
   "name": "scala",
   "nbconvert_exporter": "script",
   "version": "2.12.10"
  }
 },
 "nbformat": 4,
 "nbformat_minor": 4
}
